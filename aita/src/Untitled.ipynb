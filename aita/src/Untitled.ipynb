{
 "cells": [
  {
   "cell_type": "code",
   "execution_count": 140,
   "metadata": {
    "collapsed": true
   },
   "outputs": [],
   "source": [
    "import loadData_aita as lda\n",
    "import matplotlib.pyplot as plt\n",
    "import numpy as np\n",
    "import scipy\n",
    "import image2d as im2d\n",
    "from scipy import ndimage\n",
    "import skimage"
   ]
  },
  {
   "cell_type": "code",
   "execution_count": 2,
   "metadata": {
    "collapsed": false
   },
   "outputs": [
    {
     "name": "stdout",
     "output_type": "stream",
     "text": [
      "Sucessfull aita build !\n"
     ]
    },
    {
     "name": "stderr",
     "output_type": "stream",
     "text": [
      "/usr/lib/python2.7/dist-packages/skimage/measure/_label.py:4: skimage_deprecation: Call to deprecated function ``label``. Use ``skimage.measure.label`` instead.\n",
      "  return _label(input, neighbors, background, return_num)\n"
     ]
    }
   ],
   "source": [
    "aita=lda.aita5col('orientation_test.dat')"
   ]
  },
  {
   "cell_type": "code",
   "execution_count": 3,
   "metadata": {
    "collapsed": true
   },
   "outputs": [],
   "source": [
    "aita.phi1.plot()"
   ]
  },
  {
   "cell_type": "code",
   "execution_count": 8,
   "metadata": {
    "collapsed": true
   },
   "outputs": [],
   "source": [
    "plt.show()"
   ]
  },
  {
   "cell_type": "code",
   "execution_count": 126,
   "metadata": {
    "collapsed": true
   },
   "outputs": [],
   "source": [
    "from skimage import filter\n",
    "from skimage.morphology import skeletonize"
   ]
  },
  {
   "cell_type": "code",
   "execution_count": null,
   "metadata": {
    "collapsed": true
   },
   "outputs": [],
   "source": []
  },
  {
   "cell_type": "code",
   "execution_count": 127,
   "metadata": {
    "collapsed": false
   },
   "outputs": [],
   "source": [
    "\n",
    "def grainboundary(self):\n",
    "    '''\n",
    "    Segmentation\n",
    "    '''\n",
    "    \n",
    "    m=np.matrix(1./9.*np.ones([3*3]))\n",
    "    \n",
    "    dxdy=(self.phi1.convole(m)-self.phi1).abs()+(self.phi.convole(m)-self.phi).abs()\n",
    "    \n",
    "    maxdxdy=np.max(dxdy.field)\n",
    "    \n",
    "    dn=dxdy.field/maxdxdy*255.\n",
    "    \n",
    "    #h,img=self.plot()\n",
    "    #plt.close('all')\n",
    "    \n",
    "    \n",
    "    val = filter.threshold_otsu(dn)\n",
    "    mask = dn < val/3\n",
    "    \n",
    "    mask=skeletonize(mask)\n",
    "    \n",
    "    labs, nb_grains = ndimage.measurements.label(mask)\n",
    "    #gb = ndimage.binary_opening(gb.field)\n",
    "    #gb = ndimage.binary_closing(gb.field)\n",
    "        \n",
    "    return mask,labs"
   ]
  },
  {
   "cell_type": "code",
   "execution_count": 132,
   "metadata": {
    "collapsed": false
   },
   "outputs": [],
   "source": [
    "h,im=aita.plot()"
   ]
  },
  {
   "cell_type": "code",
   "execution_count": 135,
   "metadata": {
    "collapsed": true
   },
   "outputs": [],
   "source": [
    "from skimage import restoration\n",
    "from skimage import img_as_float\n",
    "im_float = img_as_float(im)"
   ]
  },
  {
   "cell_type": "code",
   "execution_count": 139,
   "metadata": {
    "collapsed": false
   },
   "outputs": [
    {
     "ename": "AttributeError",
     "evalue": "'module' object has no attribute 'denoise_nl_means'",
     "output_type": "error",
     "traceback": [
      "\u001b[1;31m---------------------------------------------------------------------------\u001b[0m",
      "\u001b[1;31mAttributeError\u001b[0m                            Traceback (most recent call last)",
      "\u001b[1;32m<ipython-input-139-18bdfb499d20>\u001b[0m in \u001b[0;36m<module>\u001b[1;34m()\u001b[0m\n\u001b[1;32m----> 1\u001b[1;33m \u001b[0mim_denoised\u001b[0m \u001b[1;33m=\u001b[0m \u001b[0mrestoration\u001b[0m\u001b[1;33m.\u001b[0m\u001b[0mdenoise_nl_means\u001b[0m\u001b[1;33m(\u001b[0m\u001b[0mim_float\u001b[0m\u001b[1;33m,\u001b[0m \u001b[0mh\u001b[0m\u001b[1;33m=\u001b[0m\u001b[1;36m0.05\u001b[0m\u001b[1;33m)\u001b[0m\u001b[1;33m\u001b[0m\u001b[0m\n\u001b[0m",
      "\u001b[1;31mAttributeError\u001b[0m: 'module' object has no attribute 'denoise_nl_means'"
     ]
    }
   ],
   "source": [
    "im_denoised = restoration.denoise_nl_means(im_float, h=0.05)"
   ]
  },
  {
   "cell_type": "code",
   "execution_count": null,
   "metadata": {
    "collapsed": true
   },
   "outputs": [],
   "source": []
  }
 ],
 "metadata": {
  "kernelspec": {
   "display_name": "Python 2",
   "language": "python",
   "name": "python2"
  },
  "language_info": {
   "codemirror_mode": {
    "name": "ipython",
    "version": 2
   },
   "file_extension": ".py",
   "mimetype": "text/x-python",
   "name": "python",
   "nbconvert_exporter": "python",
   "pygments_lexer": "ipython2",
   "version": "2.7.9"
  }
 },
 "nbformat": 4,
 "nbformat_minor": 0
}
