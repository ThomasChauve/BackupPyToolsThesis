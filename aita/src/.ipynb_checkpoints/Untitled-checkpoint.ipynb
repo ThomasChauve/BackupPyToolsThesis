{
 "cells": [
  {
   "cell_type": "code",
   "execution_count": 82,
   "metadata": {
    "collapsed": true
   },
   "outputs": [],
   "source": [
    "import loadData_aita as lda\n",
    "import matplotlib.pyplot as plt\n",
    "import numpy as np\n",
    "import scipy\n",
    "import image2d as im2d\n",
    "from scipy import ndimage\n",
    "import skimage"
   ]
  },
  {
   "cell_type": "code",
   "execution_count": 2,
   "metadata": {
    "collapsed": false
   },
   "outputs": [
    {
     "name": "stdout",
     "output_type": "stream",
     "text": [
      "Sucessfull aita build !\n"
     ]
    },
    {
     "name": "stderr",
     "output_type": "stream",
     "text": [
      "/usr/lib/python2.7/dist-packages/skimage/measure/_label.py:4: skimage_deprecation: Call to deprecated function ``label``. Use ``skimage.measure.label`` instead.\n",
      "  return _label(input, neighbors, background, return_num)\n"
     ]
    }
   ],
   "source": [
    "aita=lda.aita5col('orientation_test.dat')"
   ]
  },
  {
   "cell_type": "code",
   "execution_count": 3,
   "metadata": {
    "collapsed": true
   },
   "outputs": [],
   "source": [
    "aita.phi1.plot()"
   ]
  },
  {
   "cell_type": "code",
   "execution_count": 8,
   "metadata": {
    "collapsed": true
   },
   "outputs": [],
   "source": [
    "plt.show()"
   ]
  },
  {
   "cell_type": "code",
   "execution_count": 126,
   "metadata": {
    "collapsed": true
   },
   "outputs": [],
   "source": [
    "from skimage import filter\n",
    "from skimage.morphology import skeletonize"
   ]
  },
  {
   "cell_type": "code",
   "execution_count": null,
   "metadata": {
    "collapsed": true
   },
   "outputs": [],
   "source": []
  },
  {
   "cell_type": "code",
   "execution_count": 127,
   "metadata": {
    "collapsed": false
   },
   "outputs": [],
   "source": [
    "\n",
    "def grainboundary(self):\n",
    "    '''\n",
    "    Segmentation\n",
    "    '''\n",
    "    \n",
    "    m=np.matrix(1./9.*np.ones([3*3]))\n",
    "    \n",
    "    dxdy=(self.phi1.convole(m)-self.phi1).abs()+(self.phi.convole(m)-self.phi).abs()\n",
    "    \n",
    "    maxdxdy=np.max(dxdy.field)\n",
    "    \n",
    "    dn=dxdy.field/maxdxdy*255.\n",
    "    \n",
    "    #h,img=self.plot()\n",
    "    #plt.close('all')\n",
    "    \n",
    "    \n",
    "    val = filter.threshold_otsu(dn)\n",
    "    mask = dn < val/3\n",
    "    \n",
    "    mask=skeletonize(mask)\n",
    "    \n",
    "    labs, nb_grains = ndimage.measurements.label(mask)\n",
    "    #gb = ndimage.binary_opening(gb.field)\n",
    "    #gb = ndimage.binary_closing(gb.field)\n",
    "        \n",
    "    return mask,labs"
   ]
  },
  {
   "cell_type": "code",
   "execution_count": 132,
   "metadata": {
    "collapsed": false
   },
   "outputs": [],
   "source": [
    "h,im=aita.plot()"
   ]
  },
  {
   "cell_type": "code",
   "execution_count": 135,
   "metadata": {
    "collapsed": true
   },
   "outputs": [],
   "source": [
    "from skimage import restoration\n",
    "from skimage import img_as_float\n",
    "im_float = img_as_float(im)"
   ]
  },
  {
   "cell_type": "code",
   "execution_count": 137,
   "metadata": {
    "collapsed": false
   },
   "outputs": [
    {
     "data": {
      "text/plain": [
       "array([[[ 0.42885728,  0.3060789 ,  0.        ],\n",
       "        [ 0.        ,  0.08079393,  0.60925206],\n",
       "        [ 0.        ,  0.08907018,  0.61223679],\n",
       "        ..., \n",
       "        [ 0.32848284,  0.33983896,  0.        ],\n",
       "        [ 0.        ,  0.22980902,  0.56719405],\n",
       "        [ 0.        ,  0.25728267,  0.60143262]],\n",
       "\n",
       "       [[ 0.        ,  0.07398642,  0.64234685],\n",
       "        [ 0.        ,  0.0720456 ,  0.63459726],\n",
       "        [ 0.        ,  0.07471523,  0.63017649],\n",
       "        ..., \n",
       "        [ 0.34990088,  0.35375305,  0.        ],\n",
       "        [ 0.        ,  0.22193519,  0.5659774 ],\n",
       "        [ 0.        ,  0.25672058,  0.60684613]],\n",
       "\n",
       "       [[ 0.        ,  0.0788394 ,  0.66172889],\n",
       "        [ 0.        ,  0.0788394 ,  0.66172889],\n",
       "        [ 0.38569736,  0.2775109 ,  0.        ],\n",
       "        ..., \n",
       "        [ 0.37276839,  0.39051272,  0.        ],\n",
       "        [ 0.        ,  0.20151587,  0.52943649],\n",
       "        [ 0.        ,  0.24305133,  0.58234552]],\n",
       "\n",
       "       ..., \n",
       "       [[ 0.        ,  0.63518839,  0.2184347 ],\n",
       "        [ 0.        ,  0.63908334,  0.21940542],\n",
       "        [ 0.        ,  0.63733115,  0.22084802],\n",
       "        ..., \n",
       "        [ 0.        ,  0.41376824,  0.16331663],\n",
       "        [ 0.        ,  0.40827096,  0.16384423],\n",
       "        [ 0.        ,  0.40440681,  0.16288505]],\n",
       "\n",
       "       [[ 0.        ,  0.63518839,  0.2184347 ],\n",
       "        [ 0.        ,  0.63733115,  0.22084802],\n",
       "        [ 0.        ,  0.64122503,  0.22181838],\n",
       "        ..., \n",
       "        [ 0.        ,  0.41485895,  0.15791881],\n",
       "        [ 0.        ,  0.41763747,  0.16427783],\n",
       "        [ 0.        ,  0.41051602,  0.1662958 ]],\n",
       "\n",
       "       [[ 0.        ,  0.63733115,  0.22084802],\n",
       "        [ 0.        ,  0.64122503,  0.22181838],\n",
       "        [ 0.        ,  0.63733115,  0.22084802],\n",
       "        ..., \n",
       "        [ 0.        ,  0.40710616,  0.15599085],\n",
       "        [ 0.        ,  0.4204887 ,  0.17066544],\n",
       "        [ 0.        ,  0.42660102,  0.17407744]]])"
      ]
     },
     "execution_count": 137,
     "metadata": {},
     "output_type": "execute_result"
    }
   ],
   "source": [
    "im_denoised = restoration.nl_means_denoising(im_float, h=0.05)"
   ]
  },
  {
   "cell_type": "code",
   "execution_count": null,
   "metadata": {
    "collapsed": true
   },
   "outputs": [],
   "source": []
  }
 ],
 "metadata": {
  "kernelspec": {
   "display_name": "Python 2",
   "language": "python",
   "name": "python2"
  },
  "language_info": {
   "codemirror_mode": {
    "name": "ipython",
    "version": 2
   },
   "file_extension": ".py",
   "mimetype": "text/x-python",
   "name": "python",
   "nbconvert_exporter": "python",
   "pygments_lexer": "ipython2",
   "version": "2.7.9"
  }
 },
 "nbformat": 4,
 "nbformat_minor": 0
}
